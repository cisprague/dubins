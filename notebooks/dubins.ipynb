{
 "cells": [
  {
   "cell_type": "markdown",
   "metadata": {},
   "source": [
    "# Dubin's car dynamical model"
   ]
  },
  {
   "cell_type": "code",
   "execution_count": 1,
   "metadata": {},
   "outputs": [],
   "source": [
    "from sympy import *\n",
    "import numpy as np\n",
    "init_printing()"
   ]
  },
  {
   "cell_type": "code",
   "execution_count": 2,
   "metadata": {},
   "outputs": [],
   "source": [
    "# state\n",
    "x, y, theta = symbols('x y \\\\theta', real=True)\n",
    "s = Matrix([x, y, theta])\n",
    "\n",
    "# control\n",
    "phi = symbols('\\\\phi', real=True)"
   ]
  },
  {
   "cell_type": "code",
   "execution_count": 3,
   "metadata": {},
   "outputs": [
    {
     "data": {
      "image/png": "[encoded data removed]",
      "text/latex": [
       "$$\\left[\\begin{matrix}\\cos{\\left (\\theta \\right )}\\\\\\sin{\\left (\\theta \\right )}\\\\\\tan{\\left (\\phi \\right )}\\end{matrix}\\right]$$"
      ],
      "text/plain": [
       "⎡cos(\\theta)⎤\n",
       "⎢           ⎥\n",
       "⎢sin(\\theta)⎥\n",
       "⎢           ⎥\n",
       "⎣ tan(\\phi) ⎦"
      ]
     },
     "execution_count": 3,
     "metadata": {},
     "output_type": "execute_result"
    }
   ],
   "source": [
    "# state transition\n",
    "ds = Matrix([\n",
    "    cos(theta),\n",
    "    sin(theta),\n",
    "    tan(phi),\n",
    "])\n",
    "\n",
    "# state transition jacobian\n",
    "dds = ds.jacobian(s)\n",
    "ds"
   ]
  },
  {
   "cell_type": "code",
   "execution_count": 4,
   "metadata": {},
   "outputs": [],
   "source": [
    "# homotopy parameter\n",
    "alpha = symbols('\\\\alpha', real=True, positive=True)\n",
    "\n",
    "# Lagrangian\n",
    "L = alpha*phi + (1 - alpha)*phi**2"
   ]
  },
  {
   "cell_type": "code",
   "execution_count": 5,
   "metadata": {},
   "outputs": [],
   "source": [
    "# costate variables\n",
    "cs = Matrix([symbols('\\\\lambda_' + str(var)) for var in s])\n",
    "\n",
    "# fullstate\n",
    "fs = Matrix([s, cs])\n",
    "\n",
    "# hamiltonian\n",
    "H = cs.dot(ds) + L"
   ]
  },
  {
   "cell_type": "code",
   "execution_count": 6,
   "metadata": {},
   "outputs": [],
   "source": [
    "# costate transition\n",
    "dcs = Matrix([-H.diff(var) for var in s])\n",
    "\n",
    "# fullstate transtion\n",
    "dfs = Matrix([ds, dcs])\n",
    "\n",
    "# fullstate transition jacobian\n",
    "ddfs = dfs.jacobian(fs)"
   ]
  }
 ],
 "metadata": {
  "kernelspec": {
   "display_name": "Python 3",
   "language": "python",
   "name": "python3"
  },
  "language_info": {
   "codemirror_mode": {
    "name": "ipython",
    "version": 3
   },
   "file_extension": ".py",
   "mimetype": "text/x-python",
   "name": "python",
   "nbconvert_exporter": "python",
   "pygments_lexer": "ipython3",
   "version": "3.6.6"
  }
 },
 "nbformat": 4,
 "nbformat_minor": 2
}
